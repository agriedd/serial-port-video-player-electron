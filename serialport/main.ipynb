{
 "cells": [
  {
   "cell_type": "code",
   "execution_count": 1,
   "metadata": {},
   "outputs": [
    {
     "name": "stdout",
     "output_type": "stream",
     "text": [
      "b'siddheshrane' ('127.0.0.1', 60109)\n",
      "Distance: 0.00\n",
      "\n",
      "Distance: 0.00\n",
      "\n",
      "Distance: 0.00\n",
      "\n",
      "Distance: 0.00\n",
      "\n",
      "Distance: 0.00\n",
      "\n",
      "Distance: 0.00\n",
      "\n",
      "Distance: 0.00\n",
      "\n",
      "Distance: 0.00\n",
      "\n",
      "Distance: 0.00\n",
      "\n",
      "Distance: 0.00\n",
      "\n",
      "Distance: 0.00\n",
      "\n",
      "Distance: 0.00\n",
      "\n",
      "Distance: 0.00\n",
      "\n",
      "Distance: 0.00\n",
      "\n",
      "Distance: 0.00\n",
      "\n",
      "Distance: 0.00\n",
      "\n",
      "Distance: 0.00\n",
      "\n",
      "Distance: 0.00\n",
      "\n",
      "Distance: 0.00\n",
      "\n",
      "Distance: 0.00\n",
      "\n",
      "Distance: 0.00\n",
      "\n",
      "Distance: 0.00\n",
      "\n",
      "Distance: 0.00\n",
      "\n",
      "Distance: 0.00\n",
      "\n",
      "Distance: 0.00\n",
      "\n",
      "Distance: 0.00\n",
      "\n",
      "Distance: 0.00\n",
      "\n",
      "Distance: 0.00\n",
      "\n",
      "Distance: 0.00\n",
      "\n",
      "Distance: 0.00\n",
      "\n",
      "Distance: 0.00\n",
      "\n",
      "Distance: 0.00\n",
      "\n",
      "Distance: 0.00\n",
      "\n",
      "Distance: 0.00\n",
      "\n"
     ]
    }
   ],
   "source": [
    "import serial\n",
    "import time\n",
    "import socket\n",
    "\n",
    "import json\n",
    "\n",
    "# Open and read the JSON file\n",
    "fileconfig = open('config.json', 'r')\n",
    "data = json.load(fileconfig)\n",
    "\n",
    "# Print the data\n",
    "\n",
    "PORT = 12000\n",
    "SERIALPORT = data['serialport']\n",
    "BAUDRATE = 9600\n",
    "\n",
    "server_socket = socket.socket(socket.AF_INET, socket.SOCK_DGRAM)\n",
    "server_socket.bind(('', PORT))\n",
    "\n",
    "serialPort = serial.Serial(\n",
    "    port=SERIALPORT, baudrate=BAUDRATE, bytesize=8, timeout=2, stopbits=serial.STOPBITS_ONE\n",
    ")\n",
    "\n",
    "serialString = \"\"  # Used to hold data coming over UART\n",
    "while True:\n",
    "    \n",
    "    message, address = server_socket.recvfrom(1024)\n",
    "    print(message, address)\n",
    "    \n",
    "    while True:\n",
    "        # Read data out of the buffer until a carraige return / new line is found\n",
    "        serialString = serialPort.readline()\n",
    "        try:\n",
    "            # Print the contents of the serial data\n",
    "            result = serialString.decode(\"Ascii\")\n",
    "            print(result)\n",
    "            server_socket.sendto(str.encode(\n",
    "                result\n",
    "                # word\n",
    "            ), address)\n",
    "        except:\n",
    "            print(\"err\")\n",
    "            break"
   ]
  },
  {
   "cell_type": "code",
   "execution_count": 2,
   "metadata": {},
   "outputs": [
    {
     "name": "stdout",
     "output_type": "stream",
     "text": [
      "a\n"
     ]
    }
   ],
   "source": [
    "while True:\n",
    "\tprint(\"a\")\n",
    "\tbreak;"
   ]
  },
  {
   "cell_type": "code",
   "execution_count": 13,
   "metadata": {},
   "outputs": [
    {
     "name": "stderr",
     "output_type": "stream",
     "text": [
      "<>:1: SyntaxWarning: invalid escape sequence '\\P'\n",
      "<>:1: SyntaxWarning: invalid escape sequence '\\P'\n",
      "C:\\Users\\agrie\\AppData\\Local\\Temp\\ipykernel_15148\\2144242280.py:1: SyntaxWarning: invalid escape sequence '\\P'\n",
      "  \"c:\\Python312\\Lib\\site-packages\\serial\\__init__.py\"\n"
     ]
    },
    {
     "data": {
      "text/plain": [
       "'c:\\\\Python312\\\\Lib\\\\site-packages\\\\serial\\\\__init__.py'"
      ]
     },
     "execution_count": 13,
     "metadata": {},
     "output_type": "execute_result"
    }
   ],
   "source": [
    "\"c:\\Python312\\Lib\\site-packages\\serial\\__init__.py\""
   ]
  }
 ],
 "metadata": {
  "kernelspec": {
   "display_name": "base",
   "language": "python",
   "name": "python3"
  },
  "language_info": {
   "codemirror_mode": {
    "name": "ipython",
    "version": 3
   },
   "file_extension": ".py",
   "mimetype": "text/x-python",
   "name": "python",
   "nbconvert_exporter": "python",
   "pygments_lexer": "ipython3",
   "version": "3.12.3"
  }
 },
 "nbformat": 4,
 "nbformat_minor": 2
}
